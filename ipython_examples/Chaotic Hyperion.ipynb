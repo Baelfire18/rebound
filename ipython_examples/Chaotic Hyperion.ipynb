{
 "cells": [
  {
   "cell_type": "code",
   "execution_count": 1,
   "id": "e350dbbb",
   "metadata": {
    "scrolled": true
   },
   "outputs": [
    {
     "name": "stdout",
     "output_type": "stream",
     "text": [
      "Jan  6 2022 19:24:39\n"
     ]
    }
   ],
   "source": [
    "import rebound\n",
    "print(rebound.__build__)\n",
    "import numpy as np\n",
    "import matplotlib.pyplot as plt"
   ]
  },
  {
   "cell_type": "markdown",
   "id": "a8ace976",
   "metadata": {},
   "source": [
    "Implementation in C for speed:"
   ]
  },
  {
   "cell_type": "code",
   "execution_count": 2,
   "id": "79a48333",
   "metadata": {},
   "outputs": [
    {
     "name": "stdout",
     "output_type": "stream",
     "text": [
      "Overwriting rhs.c\n"
     ]
    }
   ],
   "source": [
    "%%writefile rhs.c\n",
    "#include \"rebound.h\"\n",
    "void derivatives(struct reb_ode* const ode, double* const yDot, const double* const y, const double t){\n",
    "    struct reb_orbit o = reb_tools_particle_to_orbit(ode->r->G, ode->r->particles[1], ode->r->particles[0]);\n",
    "    \n",
    "    // Danby 1962, Goldreich and Peale 1966, Wisdom and Peale 1983\n",
    "    double omega2 = 3.*0.26; \n",
    "    yDot[0] = y[1];\n",
    "    yDot[1] = -omega2/(2.*o.d*o.d*o.d)*sin(2.*(y[0]-o.f));\n",
    "}\n"
   ]
  },
  {
   "cell_type": "markdown",
   "id": "28274585",
   "metadata": {},
   "source": [
    "Compiling into a shared library"
   ]
  },
  {
   "cell_type": "code",
   "execution_count": 3,
   "id": "7d3c176a",
   "metadata": {},
   "outputs": [],
   "source": [
    "!cp ../src/librebound.so .\n",
    "!cp ../src/rebound.h .\n",
    "!gcc -c -O3 -fPIC rhs.c -o rhs.o\n",
    "!gcc -L. -shared rhs.o -o rhs.so -lrebound "
   ]
  },
  {
   "cell_type": "markdown",
   "id": "f2b6d28e",
   "metadata": {},
   "source": [
    "Loading the shared library"
   ]
  },
  {
   "cell_type": "code",
   "execution_count": 6,
   "id": "11736a91",
   "metadata": {},
   "outputs": [],
   "source": [
    "from ctypes import cdll\n",
    "clibrhs = cdll.LoadLibrary(\"rhs.so\")"
   ]
  },
  {
   "cell_type": "markdown",
   "id": "37ac5371",
   "metadata": {},
   "source": [
    "Setting up N-body simulation and ODE"
   ]
  },
  {
   "cell_type": "code",
   "execution_count": 101,
   "id": "18043d1d",
   "metadata": {},
   "outputs": [],
   "source": [
    "def setup():\n",
    "    sim = rebound.Simulation()\n",
    "    sim.add(m=1) # Saturn\n",
    "    sim.add(a=1, e=0.123233) # Hyperion, massless, semi-major axis of 1\n",
    "    sim.integrator = \"BS\"\n",
    "    sim.ri_bs.eps_rel = 1e-12\n",
    "    sim.ri_bs.eps_abs = 1e-12\n",
    "    \n",
    "    ode_spin = sim.create_ode(length=2, needs_nbody=True)\n",
    "    ode_spin.y[0] = 0.01  # somewhat arbitrary initial conditions that lead to chaos\n",
    "    ode_spin.y[1] = 1\n",
    "    ode_spin.derivatives = clibrhs.derivatives\n",
    "    \n",
    "    return sim, ode_spin"
   ]
  },
  {
   "cell_type": "markdown",
   "id": "0ec83e0a",
   "metadata": {},
   "source": [
    "Creating two simulations, including one slightly offset to measure the divergence"
   ]
  },
  {
   "cell_type": "code",
   "execution_count": 129,
   "id": "4eb25927",
   "metadata": {},
   "outputs": [],
   "source": [
    "sim, ode_spin = setup()\n",
    "sim2, ode_spin2 = setup()\n",
    "ode_spin2.y[0] += 1e-8 # small perturbation\n",
    "\n",
    "times = 2.*np.pi*np.logspace(-1,1.5,100) # a couple of orbits\n",
    "obliq = np.zeros((len(times)))\n",
    "obliq2 = obliq.copy()\n",
    "\n",
    "for i, t in enumerate(times):\n",
    "    sim.integrate(t, exact_finish_time=1)\n",
    "    sim2.integrate(t, exact_finish_time=1)        \n",
    "    obliq[i] = ode_spin.y[0]\n",
    "    obliq2[i] = ode_spin2.y[0]"
   ]
  },
  {
   "cell_type": "markdown",
   "id": "5dd29d60",
   "metadata": {},
   "source": [
    "The Lyapunov timescale is approximately 1.2 orbits. About 25 days! (Wikipedia says ~30 days)"
   ]
  },
  {
   "cell_type": "code",
   "execution_count": 130,
   "id": "13ac8f3a",
   "metadata": {},
   "outputs": [
    {
     "data": {
      "image/png": "[encoded data removed]",
      "text/plain": [
       "<Figure size 432x288 with 1 Axes>"
      ]
     },
     "metadata": {
      "needs_background": "light"
     },
     "output_type": "display_data"
    }
   ],
   "source": [
    "fig, ax = plt.subplots(1,1)\n",
    "ax.set_xlabel(\"time [orbits]\")\n",
    "ax.set_ylabel(\"obliquity difference [degrees]\")\n",
    "ax.set_yscale(\"log\")\n",
    "ax.set_ylim([1e-8,1e2])\n",
    "o1 = np.remainder(obliq*180/np.pi,360.)\n",
    "o2 = np.remainder(obliq2*180/np.pi,360.)\n",
    "ax.scatter(times/np.pi/2.,np.abs((o1-o2)))\n",
    "ax.plot(times/np.pi/2.,1e-8/np.pi*180.*np.exp(times/(np.pi*2.)/1.2),color=\"black\");"
   ]
  },
  {
   "cell_type": "code",
   "execution_count": null,
   "id": "3fbef836",
   "metadata": {},
   "outputs": [],
   "source": []
  },
  {
   "cell_type": "code",
   "execution_count": null,
   "id": "7e9e557f",
   "metadata": {},
   "outputs": [],
   "source": []
  },
  {
   "cell_type": "code",
   "execution_count": null,
   "id": "254d9c2d",
   "metadata": {},
   "outputs": [],
   "source": []
  },
  {
   "cell_type": "code",
   "execution_count": null,
   "id": "503376be",
   "metadata": {},
   "outputs": [],
   "source": []
  }
 ],
 "metadata": {
  "kernelspec": {
   "display_name": "Python 3",
   "language": "python",
   "name": "python3"
  },
  "language_info": {
   "codemirror_mode": {
    "name": "ipython",
    "version": 3
   },
   "file_extension": ".py",
   "mimetype": "text/x-python",
   "name": "python",
   "nbconvert_exporter": "python",
   "pygments_lexer": "ipython3",
   "version": "3.8.9"
  }
 },
 "nbformat": 4,
 "nbformat_minor": 5
}
