{
 "cells": [
  {
   "cell_type": "code",
   "execution_count": 1,
   "id": "e350dbbb",
   "metadata": {},
   "outputs": [],
   "source": [
    "import rebound\n",
    "import numpy as np\n",
    "import matplotlib.pyplot as plt"
   ]
  },
  {
   "cell_type": "code",
   "execution_count": 38,
   "id": "79a48333",
   "metadata": {},
   "outputs": [
    {
     "name": "stdout",
     "output_type": "stream",
     "text": [
      "Overwriting rhs.c\n"
     ]
    }
   ],
   "source": [
    "%%writefile rhs.c\n",
    "#include \"rebound.h\"\n",
    "void derivatives(struct reb_ode* const ode, double* const yDot, const double* const y, const double t){\n",
    "    if (ode->r->integrator == REB_INTEGRATOR_BS){\n",
    "        reb_integrator_bs_update_particles(ode->r, NULL);\n",
    "    }\n",
    "    double alpha = 8.397 / 1296000.; // # arcsec/yr to code units (rad/(yr/2pi))\n",
    "\n",
    "    struct reb_particle p = ode->r->particles[4];\n",
    "    reb_particle_isub(&p, &ode->r->particles[0]);\n",
    "    \n",
    "    double Lx = p.y*p.vz - p.z*p.vy;\n",
    "    double Ly = p.z*p.vx - p.x*p.vz;\n",
    "    double Lz = p.x*p.vy - p.y*p.vx;\n",
    "    \n",
    "    double L = 1./sqrt(Lx*Lx + Ly*Ly + Lz*Lz);\n",
    "    Lx *= L;\n",
    "    Ly *= L;\n",
    "    Lz *= L;\n",
    "\n",
    "    double alphaLS = alpha * (Lx*y[0] + Ly*y[1] + Lz*y[2]);\n",
    "    \n",
    "    yDot[0] = alphaLS * (Ly*y[2] - Lz*y[1]);\n",
    "    yDot[1] = alphaLS * (Lz*y[0] - Lx*y[2]);\n",
    "    yDot[2] = alphaLS * (Lx*y[1] - Ly*y[0]);\n",
    "}\n"
   ]
  },
  {
   "cell_type": "code",
   "execution_count": 39,
   "id": "7d3c176a",
   "metadata": {},
   "outputs": [],
   "source": [
    "!cp ../src/librebound.so .\n",
    "!cp ../src/rebound.h ."
   ]
  },
  {
   "cell_type": "code",
   "execution_count": 40,
   "id": "3ac1cbdf",
   "metadata": {},
   "outputs": [],
   "source": [
    "!gcc -c -O3 -fPIC rhs.c -o rhs.o"
   ]
  },
  {
   "cell_type": "code",
   "execution_count": 41,
   "id": "612b7d04",
   "metadata": {},
   "outputs": [],
   "source": [
    "!gcc -L. -shared rhs.o -o rhs.so -lrebound "
   ]
  },
  {
   "cell_type": "code",
   "execution_count": 42,
   "id": "11736a91",
   "metadata": {},
   "outputs": [],
   "source": [
    "from ctypes import cdll, byref, c_double\n",
    "clibrhs = cdll.LoadLibrary(\"rhs.so\")"
   ]
  },
  {
   "cell_type": "markdown",
   "id": "37ac5371",
   "metadata": {},
   "source": [
    "We first set up our N-body simulation. Note that we are using the Gragg-Bulirsch-Stoer integrator (BS)."
   ]
  },
  {
   "cell_type": "code",
   "execution_count": 43,
   "id": "18043d1d",
   "metadata": {},
   "outputs": [],
   "source": [
    "try:\n",
    "    sim = rebound.Simulation(\"ss.bin\")\n",
    "except:\n",
    "    sim = rebound.Simulation()\n",
    "    sim.add([\"Sun\",\"Mercury\",\"Venus\",\"Earth\",\"Mars\",\"Jupiter\",\"Saturn\",\"Uranus\",\"Neptune\"])\n",
    "    sim.save(\"ss.bin\")\n",
    "sim.integrator = \"BS\"\n",
    "sim.integrator = \"WHFast\"\n",
    "sim.dt = sim.particles[1].P/25."
   ]
  },
  {
   "cell_type": "code",
   "execution_count": 44,
   "id": "39c5337d",
   "metadata": {},
   "outputs": [],
   "source": [
    "ode_ho = sim.create_ode(length=3)"
   ]
  },
  {
   "cell_type": "code",
   "execution_count": 45,
   "id": "265f8c39",
   "metadata": {},
   "outputs": [],
   "source": [
    "eps = 25.19/180*np.pi # approximate current obliquity in radian\n",
    "spin0 = np.array((0.0,np.sin(eps),np.cos(eps)))\n",
    "ode_ho.y[0] = spin0[0]\n",
    "ode_ho.y[1] = spin0[1]\n",
    "ode_ho.y[2] = spin0[2]\n",
    "#ode_ho.derivatives = rhs\n",
    "ode_ho.derivatives = clibrhs.derivatives"
   ]
  },
  {
   "cell_type": "code",
   "execution_count": 46,
   "id": "4eb25927",
   "metadata": {},
   "outputs": [
    {
     "ename": "KeyboardInterrupt",
     "evalue": "",
     "output_type": "error",
     "traceback": [
      "\u001b[0;31m---------------------------------------------------------------------------\u001b[0m",
      "\u001b[0;31mKeyboardInterrupt\u001b[0m                         Traceback (most recent call last)",
      "\u001b[0;32m<ipython-input-46-771d02d40b23>\u001b[0m in \u001b[0;36m<module>\u001b[0;34m\u001b[0m\n\u001b[1;32m      3\u001b[0m \u001b[0;34m\u001b[0m\u001b[0m\n\u001b[1;32m      4\u001b[0m \u001b[0;32mfor\u001b[0m \u001b[0mi\u001b[0m\u001b[0;34m,\u001b[0m \u001b[0mt\u001b[0m \u001b[0;32min\u001b[0m \u001b[0menumerate\u001b[0m\u001b[0;34m(\u001b[0m\u001b[0mtimes\u001b[0m\u001b[0;34m)\u001b[0m\u001b[0;34m:\u001b[0m\u001b[0;34m\u001b[0m\u001b[0;34m\u001b[0m\u001b[0m\n\u001b[0;32m----> 5\u001b[0;31m     \u001b[0msim\u001b[0m\u001b[0;34m.\u001b[0m\u001b[0mintegrate\u001b[0m\u001b[0;34m(\u001b[0m\u001b[0mt\u001b[0m\u001b[0;34m,\u001b[0m \u001b[0mexact_finish_time\u001b[0m\u001b[0;34m=\u001b[0m\u001b[0;36m0\u001b[0m\u001b[0;34m)\u001b[0m\u001b[0;34m\u001b[0m\u001b[0;34m\u001b[0m\u001b[0m\n\u001b[0m\u001b[1;32m      6\u001b[0m     \u001b[0mtimes\u001b[0m\u001b[0;34m[\u001b[0m\u001b[0mi\u001b[0m\u001b[0;34m]\u001b[0m \u001b[0;34m=\u001b[0m \u001b[0msim\u001b[0m\u001b[0;34m.\u001b[0m\u001b[0mt\u001b[0m\u001b[0;34m\u001b[0m\u001b[0;34m\u001b[0m\u001b[0m\n\u001b[1;32m      7\u001b[0m \u001b[0;34m\u001b[0m\u001b[0m\n",
      "\u001b[0;32m~/git/rebound/rebound/simulation.py\u001b[0m in \u001b[0;36mintegrate\u001b[0;34m(self, tmax, exact_finish_time)\u001b[0m\n\u001b[1;32m   1767\u001b[0m             \u001b[0;32mraise\u001b[0m \u001b[0mEscape\u001b[0m\u001b[0;34m(\u001b[0m\u001b[0;34m\"User caused exit. Simulation did not finish.\"\u001b[0m\u001b[0;34m)\u001b[0m \u001b[0;31m# should not occur in python\u001b[0m\u001b[0;34m\u001b[0m\u001b[0;34m\u001b[0m\u001b[0m\n\u001b[1;32m   1768\u001b[0m         \u001b[0;32mif\u001b[0m \u001b[0mret_value\u001b[0m \u001b[0;34m==\u001b[0m \u001b[0;36m6\u001b[0m\u001b[0;34m:\u001b[0m\u001b[0;34m\u001b[0m\u001b[0;34m\u001b[0m\u001b[0m\n\u001b[0;32m-> 1769\u001b[0;31m             \u001b[0;32mraise\u001b[0m \u001b[0mKeyboardInterrupt\u001b[0m\u001b[0;34m\u001b[0m\u001b[0;34m\u001b[0m\u001b[0m\n\u001b[0m\u001b[1;32m   1770\u001b[0m         \u001b[0;32mif\u001b[0m \u001b[0mret_value\u001b[0m \u001b[0;34m==\u001b[0m \u001b[0;36m7\u001b[0m\u001b[0;34m:\u001b[0m\u001b[0;34m\u001b[0m\u001b[0;34m\u001b[0m\u001b[0m\n\u001b[1;32m   1771\u001b[0m             \u001b[0;32mraise\u001b[0m \u001b[0mCollision\u001b[0m\u001b[0;34m(\u001b[0m\u001b[0;34m\"Two particles collided (d < r1+r2)\"\u001b[0m\u001b[0;34m)\u001b[0m\u001b[0;34m\u001b[0m\u001b[0;34m\u001b[0m\u001b[0m\n",
      "\u001b[0;31mKeyboardInterrupt\u001b[0m: "
     ]
    }
   ],
   "source": [
    "times = np.linspace(0.,1e6*np.pi*2.,1000)\n",
    "obliq = np.zeros((len(times)))\n",
    "\n",
    "for i, t in enumerate(times):\n",
    "    sim.integrate(t, exact_finish_time=0)\n",
    "    times[i] = sim.t\n",
    "    \n",
    "    dp = sim.particles[4] - sim.particles[0]\n",
    "    x = dp.xyz\n",
    "    v = dp.vxyz\n",
    "    L = np.cross(x,v)\n",
    "    L_hat = L / np.sqrt(np.sum(L**2))\n",
    "    spin = [ode_ho.y[0],ode_ho.y[1],ode_ho.y[2]]\n",
    "    obliq[i] =  np.arccos(np.dot(L_hat,spin))"
   ]
  },
  {
   "cell_type": "markdown",
   "id": "439539a6",
   "metadata": {},
   "source": [
    "Let's plot the relative energy error over time for both the N-body and the harmonic oscillator integration."
   ]
  },
  {
   "cell_type": "code",
   "execution_count": 48,
   "id": "3fabd353",
   "metadata": {},
   "outputs": [
    {
     "data": {
      "text/plain": [
       "[<matplotlib.lines.Line2D at 0x1148fc9a0>]"
      ]
     },
     "execution_count": 48,
     "metadata": {},
     "output_type": "execute_result"
    },
    {
     "data": {
      "image/png": "[encoded data removed]",
      "text/plain": [
       "<Figure size 432x288 with 1 Axes>"
      ]
     },
     "metadata": {
      "needs_background": "light"
     },
     "output_type": "display_data"
    }
   ],
   "source": [
    "fig, ax = plt.subplots(1,1)\n",
    "precfreq = 7.599 / 1296000\n",
    "ax.plot(times,obliq*180/np.pi)\n",
    "#ax.plot(times,(obliq[0]+ precfreq*times)*180/np.pi)"
   ]
  },
  {
   "cell_type": "code",
   "execution_count": null,
   "id": "d86545b2",
   "metadata": {},
   "outputs": [],
   "source": []
  },
  {
   "cell_type": "code",
   "execution_count": null,
   "id": "5efe2a9b",
   "metadata": {},
   "outputs": [],
   "source": []
  },
  {
   "cell_type": "code",
   "execution_count": null,
   "id": "e5bb99ec",
   "metadata": {},
   "outputs": [],
   "source": []
  },
  {
   "cell_type": "code",
   "execution_count": null,
   "id": "cba89ab1",
   "metadata": {},
   "outputs": [],
   "source": []
  },
  {
   "cell_type": "code",
   "execution_count": null,
   "id": "a571d20d",
   "metadata": {},
   "outputs": [],
   "source": []
  },
  {
   "cell_type": "code",
   "execution_count": null,
   "id": "3fbef836",
   "metadata": {},
   "outputs": [],
   "source": []
  },
  {
   "cell_type": "code",
   "execution_count": null,
   "id": "7e9e557f",
   "metadata": {},
   "outputs": [],
   "source": []
  },
  {
   "cell_type": "code",
   "execution_count": null,
   "id": "254d9c2d",
   "metadata": {},
   "outputs": [],
   "source": []
  },
  {
   "cell_type": "code",
   "execution_count": 18,
   "id": "0936d5f8",
   "metadata": {},
   "outputs": [],
   "source": [
    "alpha = 8.397 / 1296000 # arcsec/yr to code units (rad/(yr/2pi))\n",
    "def rhs(ode, yDot, y, t):\n",
    "    return\n",
    "    #ode.contents.update_particles()\n",
    "\n",
    "    dp = sim.particles[4] - sim.particles[0]\n",
    "    x = dp.xyz\n",
    "    v = dp.vxyz\n",
    "    L = np.cross(x,v)\n",
    "    L_hat = L / np.sqrt(np.sum(L**2))\n",
    "    S = np.array((y[0],y[1],y[2]))\n",
    "    \n",
    "    yd = -alpha * np.dot(L_hat,S)* np.cross(L_hat, S)\n",
    "    yDot[0] = yd[0]\n",
    "    yDot[1] = yd[1]\n",
    "    yDot[2] = yd[2]    "
   ]
  },
  {
   "cell_type": "code",
   "execution_count": null,
   "id": "503376be",
   "metadata": {},
   "outputs": [],
   "source": []
  }
 ],
 "metadata": {
  "kernelspec": {
   "display_name": "Python 3",
   "language": "python",
   "name": "python3"
  },
  "language_info": {
   "codemirror_mode": {
    "name": "ipython",
    "version": 3
   },
   "file_extension": ".py",
   "mimetype": "text/x-python",
   "name": "python",
   "nbconvert_exporter": "python",
   "pygments_lexer": "ipython3",
   "version": "3.8.9"
  }
 },
 "nbformat": 4,
 "nbformat_minor": 5
}
