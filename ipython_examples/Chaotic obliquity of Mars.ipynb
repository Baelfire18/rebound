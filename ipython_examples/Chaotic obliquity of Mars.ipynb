{
 "cells": [
  {
   "cell_type": "code",
   "execution_count": 1,
   "id": "e350dbbb",
   "metadata": {},
   "outputs": [],
   "source": [
    "import rebound\n",
    "import numpy as np\n",
    "import matplotlib.pyplot as plt"
   ]
  },
  {
   "cell_type": "markdown",
   "id": "37ac5371",
   "metadata": {},
   "source": [
    "We first set up our N-body simulation. Note that we are using the Gragg-Bulirsch-Stoer integrator (BS)."
   ]
  },
  {
   "cell_type": "code",
   "execution_count": 7,
   "id": "18043d1d",
   "metadata": {},
   "outputs": [],
   "source": [
    "try:\n",
    "    sim = rebound.Simulation(\"ss.bin\")\n",
    "except:\n",
    "    sim = rebound.Simulation()\n",
    "    sim.add([\"Sun\",\"Mercury\",\"Venus\",\"Earth\",\"Mars\",\"Jupiter\",\"Saturn\",\"Uranus\",\"Neptune\"])\n",
    "    sim.save(\"ss.bin\")\n",
    "sim.integrator = \"BS\"\n",
    "#sim.integrator = \"WHFast\"\n",
    "sim.dt = sim.particles[1].P/123."
   ]
  },
  {
   "cell_type": "code",
   "execution_count": 8,
   "id": "220d05bc",
   "metadata": {},
   "outputs": [],
   "source": [
    "alpha = 8.397 / 1296000 # arcsec/yr to code units (rad/(yr/2pi))\n",
    "def rhs(ode, yDot, y, t):\n",
    "    ode.contents.update_particles()\n",
    "\n",
    "    dp = sim.particles[4] - sim.particles[0]\n",
    "    x = dp.xyz\n",
    "    v = dp.vxyz\n",
    "    L = np.cross(x,v)\n",
    "    L_hat = L / np.sqrt(np.sum(L**2))\n",
    "    S = np.array((y[0],y[1],y[2]))\n",
    "    \n",
    "    yd = -alpha * np.dot(L_hat,S)* np.cross(L_hat, S)\n",
    "    yDot[0] = yd[0]\n",
    "    yDot[1] = yd[1]\n",
    "    yDot[2] = yd[2]    "
   ]
  },
  {
   "cell_type": "code",
   "execution_count": 9,
   "id": "39c5337d",
   "metadata": {},
   "outputs": [],
   "source": [
    "ode_ho = sim.create_ode(length=3)"
   ]
  },
  {
   "cell_type": "code",
   "execution_count": 10,
   "id": "265f8c39",
   "metadata": {},
   "outputs": [],
   "source": [
    "eps = 25.19/180*np.pi # approximate current obliquity in radian\n",
    "spin0 = np.array((0.,np.sin(eps),np.cos(eps)))\n",
    "ode_ho.y[0] = spin0[0]\n",
    "ode_ho.y[1] = spin0[1]\n",
    "ode_ho.y[2] = spin0[2]\n",
    "ode_ho.derivatives = rhs"
   ]
  },
  {
   "cell_type": "code",
   "execution_count": null,
   "id": "4eb25927",
   "metadata": {},
   "outputs": [],
   "source": [
    "times = np.linspace(0.,6000.,100)\n",
    "obliq = np.zeros((len(times)))\n",
    "\n",
    "for i, t in enumerate(times):\n",
    "    sim.integrate(t, exact_finish_time=0)\n",
    "    times[i] = sim.t\n",
    "    \n",
    "    dp = sim.particles[4] - sim.particles[0]\n",
    "    x = dp.xyz\n",
    "    v = dp.vxyz\n",
    "    L = np.cross(x,v)\n",
    "    L_hat = L / np.sqrt(np.sum(L**2))\n",
    "    spin = [ode_ho.y[0],ode_ho.y[1],ode_ho.y[2]]\n",
    "    obliq[i] =  np.arccos(np.dot(L_hat,spin))"
   ]
  },
  {
   "cell_type": "markdown",
   "id": "439539a6",
   "metadata": {},
   "source": [
    "Let's plot the relative energy error over time for both the N-body and the harmonic oscillator integration."
   ]
  },
  {
   "cell_type": "code",
   "execution_count": null,
   "id": "d6dc986c",
   "metadata": {},
   "outputs": [],
   "source": [
    "fig, ax = plt.subplots(1,1)\n",
    "precfreq = 7.599 / 1296000\n",
    "ax.plot(times,obliq*180/np.pi)\n",
    "ax.plot(times,(obliq[0]+ precfreq*times/41)*180/np.pi)"
   ]
  },
  {
   "cell_type": "code",
   "execution_count": null,
   "id": "5012df30",
   "metadata": {},
   "outputs": [],
   "source": []
  },
  {
   "cell_type": "code",
   "execution_count": null,
   "id": "c11f29d0",
   "metadata": {},
   "outputs": [],
   "source": []
  },
  {
   "cell_type": "code",
   "execution_count": null,
   "id": "ac20fd06",
   "metadata": {},
   "outputs": [],
   "source": []
  },
  {
   "cell_type": "code",
   "execution_count": null,
   "id": "2c727cf9",
   "metadata": {},
   "outputs": [],
   "source": []
  },
  {
   "cell_type": "code",
   "execution_count": null,
   "id": "fabbc9dc",
   "metadata": {},
   "outputs": [],
   "source": []
  },
  {
   "cell_type": "code",
   "execution_count": null,
   "id": "792291e1",
   "metadata": {},
   "outputs": [],
   "source": []
  },
  {
   "cell_type": "code",
   "execution_count": null,
   "id": "e7f3e72a",
   "metadata": {},
   "outputs": [],
   "source": []
  },
  {
   "cell_type": "code",
   "execution_count": null,
   "id": "6d07131e",
   "metadata": {},
   "outputs": [],
   "source": []
  },
  {
   "cell_type": "code",
   "execution_count": null,
   "id": "1661eb55",
   "metadata": {},
   "outputs": [],
   "source": []
  },
  {
   "cell_type": "code",
   "execution_count": null,
   "id": "8f07238e",
   "metadata": {},
   "outputs": [],
   "source": []
  }
 ],
 "metadata": {
  "kernelspec": {
   "display_name": "Python 3",
   "language": "python",
   "name": "python3"
  },
  "language_info": {
   "codemirror_mode": {
    "name": "ipython",
    "version": 3
   },
   "file_extension": ".py",
   "mimetype": "text/x-python",
   "name": "python",
   "nbconvert_exporter": "python",
   "pygments_lexer": "ipython3",
   "version": "3.8.9"
  }
 },
 "nbformat": 4,
 "nbformat_minor": 5
}
