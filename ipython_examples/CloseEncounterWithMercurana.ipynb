{
 "cells": [
  {
   "cell_type": "markdown",
   "metadata": {},
   "source": [
    "# Close encounters with MERCURANA\n",
    "In this tutorial, we run a simulation in which particles in a disk undergo close encounters with a planets. The disk particles are test particles (they have no mass). This reduces the complexity of the simulation from  $\\mathcal{O}(N^2)$ to $\\mathcal{O}(N)$.\n",
    "\n",
    "We use the MERCURANA integrator for this example. We configure it in the simplest way possible. Some optimization can be made, which we comment on at the end.\n",
    "\n",
    "Let's first set up a REBOUND simulation with one star and two planets, then move to the center of mass fram."
   ]
  },
  {
   "cell_type": "code",
   "execution_count": 1,
   "metadata": {},
   "outputs": [],
   "source": [
    "import numpy as np\n",
    "import rebound\n",
    "sim = rebound.Simulation()\n",
    "sim.add(m=1.)\n",
    "sim.add(m=1e-3, a=1, e=0.05)\n",
    "sim.add(m=1e-3, a=1.8, e=0.05)\n",
    "sim.move_to_com()"
   ]
  },
  {
   "cell_type": "markdown",
   "metadata": {},
   "source": [
    "Next, we'll add the disk particles. "
   ]
  },
  {
   "cell_type": "code",
   "execution_count": 2,
   "metadata": {},
   "outputs": [],
   "source": [
    "N_testparticle = 1000\n",
    "a_initial = np.linspace(0.8, 2, N_testparticle)\n",
    "for a in a_initial:\n",
    "    sim.add(a=a,f=np.random.rand()*2.*np.pi) # mass is set to 0 by default, random true anomaly   "
   ]
  },
  {
   "cell_type": "markdown",
   "metadata": {},
   "source": [
    "Next, we set the `N_active` variable of REBOUND to the number of active particles in our simulation. Here, we have threee active (massive) particles, the star and the two planets."
   ]
  },
  {
   "cell_type": "code",
   "execution_count": 3,
   "metadata": {},
   "outputs": [],
   "source": [
    "sim.N_active = 3"
   ]
  },
  {
   "cell_type": "markdown",
   "metadata": {},
   "source": [
    "We can configure the MERCURANA ingtegrator. In this example, we use the standard second order leapfrog for all embedded operator splittings. We use two substeps per shell and set the accuracy control parameter $\\kappa$ to 0.01. We set the maxiumum number of shells to 20. Note that we only specify these parameters for the outermost splitting (shell 0). If we do not specifically set the parameters for the innter shells, all shells use the same parameters."
   ]
  },
  {
   "cell_type": "code",
   "execution_count": 4,
   "metadata": {},
   "outputs": [],
   "source": [
    "sim.integrator = \"mercurana\"\n",
    "sim.ri_mercurana.phi0 = \"lf\"\n",
    "sim.ri_mercurana.n0 = 2\n",
    "sim.ri_mercurana.kappa0 = 0.01\n",
    "sim.ri_mercurana.Nmaxshells = 20"
   ]
  },
  {
   "cell_type": "markdown",
   "metadata": {},
   "source": [
    "Before we start the integration, let us plot the initial conditions with the OrbitPlot function."
   ]
  },
  {
   "cell_type": "code",
   "execution_count": 5,
   "metadata": {},
   "outputs": [
    {
     "data": {
      "text/plain": [
       "(<Figure size 500x500 with 1 Axes>,\n",
       " <matplotlib.axes._subplots.AxesSubplot at 0x11612d240>)"
      ]
     },
     "execution_count": 5,
     "metadata": {},
     "output_type": "execute_result"
    }
   ],
   "source": [
    "rebound.OrbitPlot(sim,orbit_type=None)"
   ]
  },
  {
   "cell_type": "markdown",
   "metadata": {},
   "source": [
    "Next, let's run the simulation. We use a global timestep of 0.01 of the inner planet's orbit asnd will run it for 200 orbits of the inner planet."
   ]
  },
  {
   "cell_type": "code",
   "execution_count": 6,
   "metadata": {},
   "outputs": [],
   "source": [
    "P0 = sim.particles[1].P\n",
    "sim.dt = 0.01*P0\n",
    "sim.integrate(200.*P0)"
   ]
  },
  {
   "cell_type": "markdown",
   "metadata": {},
   "source": [
    "And let's plot the particles again."
   ]
  },
  {
   "cell_type": "code",
   "execution_count": 7,
   "metadata": {},
   "outputs": [
    {
     "data": {
      "text/plain": [
       "(<Figure size 360x360 with 1 Axes>,\n",
       " <matplotlib.axes._subplots.AxesSubplot at 0x1181f2400>)"
      ]
     },
     "execution_count": 7,
     "metadata": {},
     "output_type": "execute_result"
    },
    {
     "data": {
      "image/png": "[encoded data removed]",
      "text/plain": [
       "<Figure size 360x360 with 1 Axes>"
      ]
     },
     "metadata": {
      "needs_background": "light"
     },
     "output_type": "display_data"
    }
   ],
   "source": [
    "rebound.OrbitPlot(sim,orbit_type=None,xlim=[-2,2],ylim=[-2,2])"
   ]
  },
  {
   "cell_type": "markdown",
   "metadata": {},
   "source": [
    "We can see that the planets stirred up the disk quite a bit. The particles in our simulation have not size, they are point particles. This allows for arbitrarily close encounters. We can check if the number of shells we used was sufficient by looking at the deepest shell we used:"
   ]
  },
  {
   "cell_type": "code",
   "execution_count": 8,
   "metadata": {},
   "outputs": [
    {
     "data": {
      "text/plain": [
       "20"
      ]
     },
     "execution_count": 8,
     "metadata": {},
     "output_type": "execute_result"
    }
   ],
   "source": [
    "sim.ri_mercurana.Nmaxshellused"
   ]
  },
  {
   "cell_type": "markdown",
   "metadata": {},
   "source": [
    "But 20 is the number of maximum shells we set at the beginning of the simulation. So we need to assume that the dynamics on the smallest scales are not resolved accuratetly. Let's see what this shortest scale is. In MERCURANA the critical radii are based on particle mass. Let's look at the smallest critical radii of the inner planet (index 1). This will give us some idea about the smallest scale we can accurately resolve:"
   ]
  },
  {
   "cell_type": "code",
   "execution_count": 10,
   "metadata": {},
   "outputs": [
    {
     "data": {
      "text/plain": [
       "2.3646239500729174e-08"
      ]
     },
     "execution_count": 10,
     "metadata": {},
     "output_type": "execute_result"
    }
   ],
   "source": [
    "sim.ri_mercurana._dcrit[19][1]  # 19 because we're starting to count at "
   ]
  },
  {
   "cell_type": "markdown",
   "metadata": {},
   "source": [
    "This length is returned in code units. If we choose units corresponding to $G=1$, and solar masses, then this length scale is about 150m, i.e. much smaller than the size of any planet. To improve the simulation we should therefore consider including a model of collisions."
   ]
  },
  {
   "cell_type": "markdown",
   "metadata": {},
   "source": [
    "So we'll set up the same simulation again, but this time set the radii of all massive particles to something meaningful. We don't add a radius to the test-particles because we assume they will not collide with each other."
   ]
  },
  {
   "cell_type": "code",
   "execution_count": 14,
   "metadata": {},
   "outputs": [],
   "source": [
    "sim = rebound.Simulation()\n",
    "sim.add(m=1., r=0.0047)\n",
    "sim.add(m=1e-3, a=1, e=0.05, r=0.00047)\n",
    "sim.add(m=1e-3, a=1.8, e=0.05, r=0.00047)\n",
    "sim.move_to_com()\n",
    "for a in a_initial:\n",
    "    sim.add(a=a,f=np.random.rand()*2.*np.pi) \n",
    "sim.N_active = 3    "
   ]
  },
  {
   "cell_type": "markdown",
   "metadata": {},
   "source": [
    "We setup a direct collision search (this will be handled by the MERCURANA integrator) and assume collisions are perfect mergers. We also want to keep the particles sorted."
   ]
  },
  {
   "cell_type": "code",
   "execution_count": 17,
   "metadata": {},
   "outputs": [],
   "source": [
    "sim.collision = \"direct\"\n",
    "sim.collision_resolve = \"merge\"\n",
    "sim.collision_resolve_keep_sorted = True"
   ]
  },
  {
   "cell_type": "markdown",
   "metadata": {},
   "source": [
    "The integrator settings are the same as before."
   ]
  },
  {
   "cell_type": "code",
   "execution_count": 18,
   "metadata": {},
   "outputs": [],
   "source": [
    "sim.integrator = \"mercurana\"\n",
    "sim.ri_mercurana.phi0 = \"lf\"\n",
    "sim.ri_mercurana.n0 = 2\n",
    "sim.ri_mercurana.kappa0 = 0.01\n",
    "sim.ri_mercurana.Nmaxshells = 20"
   ]
  },
  {
   "cell_type": "markdown",
   "metadata": {},
   "source": [
    "Let's integrate this again."
   ]
  },
  {
   "cell_type": "code",
   "execution_count": 19,
   "metadata": {},
   "outputs": [],
   "source": [
    "sim.dt = 0.01*P0\n",
    "sim.integrate(200.*P0)"
   ]
  },
  {
   "cell_type": "markdown",
   "metadata": {},
   "source": [
    "Note that we have lost a lot of particles (we started with 1003):"
   ]
  },
  {
   "cell_type": "code",
   "execution_count": 20,
   "metadata": {},
   "outputs": [
    {
     "data": {
      "text/plain": [
       "733"
      ]
     },
     "execution_count": 20,
     "metadata": {},
     "output_type": "execute_result"
    }
   ],
   "source": [
    "sim.N"
   ]
  },
  {
   "cell_type": "markdown",
   "metadata": {},
   "source": [
    "Let's check what the maximum number of shells used was this time:"
   ]
  },
  {
   "cell_type": "code",
   "execution_count": 21,
   "metadata": {},
   "outputs": [
    {
     "data": {
      "text/plain": [
       "10"
      ]
     },
     "execution_count": 21,
     "metadata": {},
     "output_type": "execute_result"
    }
   ],
   "source": [
    "sim.ri_mercurana.Nmaxshellused"
   ]
  },
  {
   "cell_type": "markdown",
   "metadata": {},
   "source": [
    "So we only used 10 out of 20 shells. This means the dynamics on the smallest scales are accurately resolved. To further increase the accuracy, we could reduce $\\kappa$, or use a higher order splitting method instead of leap-frog."
   ]
  },
  {
   "cell_type": "code",
   "execution_count": null,
   "metadata": {},
   "outputs": [],
   "source": []
  }
 ],
 "metadata": {
  "kernelspec": {
   "display_name": "Python 3",
   "language": "python",
   "name": "python3"
  },
  "language_info": {
   "codemirror_mode": {
    "name": "ipython",
    "version": 3
   },
   "file_extension": ".py",
   "mimetype": "text/x-python",
   "name": "python",
   "nbconvert_exporter": "python",
   "pygments_lexer": "ipython3",
   "version": "3.7.0"
  }
 },
 "nbformat": 4,
 "nbformat_minor": 1
}
